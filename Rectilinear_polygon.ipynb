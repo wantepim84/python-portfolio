!pip install shapely
!pip install networkx
!pip install matplotlib

import networkx as nx
import matplotlib.pyplot as plt
from shapely.geometry import Polygon

# Define the coordinates of the outer polygon
outer_polygon_coords = ((0, 10), (2, 10), (2, 0), (5, 0),
(5, 4),(13, 4), (13, 6), (15, 6),
(15, 0), (19, 0), (19, 4), (28, 4), (28, 6),
(30, 6), (30, 7), (25, 7), (25, 9), (29, 9), (29,10),
(27,10), (27,25),(13,25), (13,18), (5, 18),
(5, 22), (0, 22)) # input your own data

# Define the coordinates of the first inner polygon (hole1)
inner_polygon1_coords = ((7, 16), (9, 16), (9, 12), (7, 12)) # input your own data, if needed

# Define the coordinates of the second inner polygon (hole2)
inner_polygon2_coords = ((14, 15), (14, 13), (19, 13), (19, 15)) # input your own data, if needed

# Define the coordinates of the third inner polygon (hole3)
inner_polygon3_coords = ((23, 16), (25, 16), (25, 12), (23, 12)) # input your own data, if needed

# Create a NetworkX graph to represent the polygon with holes
polygon_graph = nx.Graph()

# Function to add nodes for the coordinates of a polygon
def add_polygon_to_graph(coords, graph, offset):
    node_mapping = {}
    for i, (x, y) in enumerate(coords):
        node = i + offset
        graph.add_node(node, pos=(x, y))
        node_mapping[(x, y)] = node
    return node_mapping

#Add coordinates of all structure to one graph

# Add the outer polygon to the graph
outer_polygon_mapping = add_polygon_to_graph(outer_polygon_coords, polygon_graph, offset=0)

# Add the first inner polygon to the graph
inner_polygon1_mapping = add_polygon_to_graph(inner_polygon1_coords, polygon_graph, offset=len(outer_polygon_coords))

# Add the second inner polygon to the graph
inner_polygon2_mapping = add_polygon_to_graph(inner_polygon2_coords, polygon_graph, offset=len(outer_polygon_coords) + len(inner_polygon1_coords))

# Add the second inner polygon to the graph
inner_polygon3_mapping = add_polygon_to_graph(inner_polygon3_coords, polygon_graph, offset=len(outer_polygon_coords) + len(inner_polygon1_coords) + len(inner_polygon2_coords))

# Create edges between nodes to form the outer and inner polygons
def create_edges(mapping, graph):
    coords = list(mapping.keys())
    for i in range(len(coords) - 1):
        graph.add_edge(mapping[coords[i]], mapping[coords[i + 1]])
    graph.add_edge(mapping[coords[-1]], mapping[coords[0]])

# Create edges for all the structures on the main graph

# Create edges for the outer polygon
create_edges(outer_polygon_mapping, polygon_graph)

# Create edges for the first inner polygon
create_edges(inner_polygon1_mapping, polygon_graph)

# Create edges for the second inner polygon
create_edges(inner_polygon2_mapping, polygon_graph)

# Create edges for the third inner polygon
create_edges(inner_polygon3_mapping, polygon_graph)

# Visualization of recrtilinear polygon containing holes

pos = nx.get_node_attributes(polygon_graph, 'pos')
nx.draw(polygon_graph, pos, with_labels=True, node_size=100, node_color='lightblue', font_size=5)
plt.title('Polygon with Three Holes')

# Show the plot
plt.gca().set_aspect('equal', adjustable='box')
plt.show()

# Function to identify axis-parallel nodes (same x or y coordinate) that are not connected by an edge
def find_axis_parallel_nodes(graph):
    axis_parallel_nodes = []
    for node1 in graph.nodes():
        x1, y1 = pos[node1]
        for node2 in graph.nodes():
            if node1 != node2:
                x2, y2 = pos[node2]
                if (x1 == x2 or y1 == y2) and not graph.has_edge(node1, node2):
                    axis_parallel_nodes.append((node1, node2))
    return axis_parallel_nodes

# Find axis-parallel unconnected nodes for the entire polygon graph
axis_parallel_nodes = find_axis_parallel_nodes(polygon_graph)

# Print the results
print("Axis-parallel nodes not connected to each other:")
print(axis_parallel_nodes)

#Using Hopcroft Karp Algorithm and visualisation of the graph, to find axis parrellel nodes that have 270° interior angle (concave vertices)
dissection_nodes = [(4, 23), (6, 22), (1, 19), (27, 34), (28, 37), (16, 36),(10, 32), (7, 12)]

#Draw the axis-parallel diagonals between two concave vertices that are contained entirely within the polygon
# Add dissection edges in red( Choose colour of your choice)

# Add dissection edges and labels
dissection_edges = []
edge_labels = {}
edge_label_counter = 1
for u, v in dissection_nodes:
    polygon_graph.add_edge(u, v)
    dissection_edges.append((u, v))
    edge_labels[(u, v)] = str(edge_label_counter)
    edge_label_counter += 1

# Visualization of polygon with dissection lines between adjacent concave vertices

# Visualization
pos = nx.get_node_attributes(polygon_graph, 'pos')

# Create a red-colored dissection_edges list to differentiate them from the original edges
edge_colors = ['black' if edge not in dissection_edges else 'red' for edge in polygon_graph.edges()]

# Draw the graph with edge labels
nx.draw(polygon_graph, pos, with_labels=True, node_size=100, node_color='lightblue', font_size=8, edge_color=edge_colors)
nx.draw_networkx_edge_labels(polygon_graph, pos, edge_labels=edge_labels, font_size=8, font_color='red')
plt.title('Polygon with Dissection Edges')
plt.gca().set_aspect('equal', adjustable='box')
plt.show()

# From edge labels for the dissection, develop edgelist of overlapping lines for intersection graph
# Define the edge list
edges = [(1, 4), (2, 4), (2, 6), (2, 5), (4, 7), (3, 7), (6, 7), (7, 8)]

# Define the nodes in each group
group0 = [1, 2, 7, 8]
group1 = [3, 4, 5, 6]

# Create an empty bipartite graph
G = nx.Graph()

# Add edges to the bipartite graph
G.add_edges_from(edges)

# Create a dictionary to store node colors
node_colors = {}

# Determine the node color based on the number of overlaps of dissection. In this particular case, if there is dissection overlap three times or more the node will be coloured red
for node in G.nodes:
    num_edges = len(list(G.neighbors(node)))
    node_colors[node] = 'red' if num_edges >= 3 else 'lightblue' #Choose colours of your choice

# Create a bipartite layout
pos = nx.bipartite_layout(G, group1) #Choose variable of your choice

#Visualisation of the intersection graph and using Konig theorem identify maximum independant set(lightblue nodes)

# Draw the bipartite graph
nx.draw_networkx_nodes(G, pos, nodelist=group0, node_color='lightblue', node_size=100)
nx.draw_networkx_nodes(G, pos, nodelist=group1, node_color='lightblue', node_size=100)
nx.draw_networkx_labels(G, pos, font_size=8)
nx.draw_networkx_edges(G, pos)
nx.draw_networkx_nodes(G, pos, nodelist=node_colors.keys(), node_color=list(node_colors.values()), node_size=100)

plt.title('Intersection Graph')
plt.gca().set_aspect('equal', adjustable='box')
plt.show()

#From intersection graph, identify node pairs from maximum idependant set
maximum_independant_set = [(4, 23), (7, 12), (27, 34), (28, 37), (16, 36)]

# Add dissection edges in red
for node_pair in maximum_independant_set:
    node1, node2 = node_pair
    polygon_graph.add_edge(node1, node2, color='red')

# Visualization
pos = nx.get_node_attributes(polygon_graph, 'pos')
edge_colors = [polygon_graph[u][v].get('color', 'black') for u, v in polygon_graph.edges()]

nx.draw(polygon_graph, pos, with_labels=True, node_size=200, font_size=8, edge_color=edge_colors)
plt.title('Polygon with Three Holes and Dissection Edges')

# Show the plot
plt.gca().set_aspect('equal', adjustable='box')
plt.show()
