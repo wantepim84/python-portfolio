{
  "nbformat": 4,
  "nbformat_minor": 0,
  "metadata": {
    "colab": {
      "provenance": [],
      "authorship_tag": "ABX9TyNJ0264PxoERbBWedQnatFO",
      "include_colab_link": true
    },
    "kernelspec": {
      "name": "python3",
      "display_name": "Python 3"
    },
    "language_info": {
      "name": "python"
    }
  },
  "cells": [
    {
      "cell_type": "markdown",
      "metadata": {
        "id": "view-in-github",
        "colab_type": "text"
      },
      "source": [
        "<a href=\"https://colab.research.google.com/github/wantepim84/python-portfolio/blob/main/Rectilinear_polygon.ipynb\" target=\"_parent\"><img src=\"https://colab.research.google.com/assets/colab-badge.svg\" alt=\"Open In Colab\"/></a>"
      ]
    },
    {
      "cell_type": "code",
      "source": [
        "#import libraries\n",
        "import networkx as nx\n",
        "import matplotlib.pyplot as plt"
      ],
      "metadata": {
        "id": "60neWlb95qp1"
      },
      "execution_count": 122,
      "outputs": []
    },
    {
      "cell_type": "code",
      "source": [
        "# Create a NetworkX graph to represent the original polygon\n",
        "polygon_graph = nx.Graph()"
      ],
      "metadata": {
        "id": "sY308hCH5t_i"
      },
      "execution_count": 123,
      "outputs": []
    },
    {
      "cell_type": "code",
      "source": [
        "# Define the vertices (points) of the outer polygon\n",
        "outer_polygon_vertices = [(0, 10), (2, 10), (2, 0), (5, 0),\n",
        " (5, 4),(13, 4), (13, 6), (15, 6),\n",
        " (15, 0), (19, 0), (19, 4), (28, 4), (28, 6),\n",
        "  (30, 6), (30, 7), (25, 7), (25, 9), (29, 9), (29,10),\n",
        "  (27,10), (27,25),(13,25), (13,18), (5, 18),\n",
        "(5, 22), (0, 22)]"
      ],
      "metadata": {
        "id": "cFeF2sx_5ycz"
      },
      "execution_count": 124,
      "outputs": []
    },
    {
      "cell_type": "code",
      "source": [
        "#Define the vertices (points)  for all the holes\n",
        "hole_vertices1 = [(7, 16), (9, 16), (9, 12), (7, 12)]\n",
        "hole_vertices2 = [(14, 15), (14, 13), (19, 13), (19, 15)]\n",
        "hole_vertices3 = [(23, 16), (25, 16), (25, 12), (23, 12)]"
      ],
      "metadata": {
        "id": "qNe7SvgA50ED"
      },
      "execution_count": 125,
      "outputs": []
    },
    {
      "cell_type": "code",
      "source": [
        "# Add nodes for the polygon vertices and hole vertices\n",
        "polygon_graph.add_nodes_from(outer_polygon_vertices)\n",
        "polygon_graph.add_nodes_from(hole_vertices1)\n",
        "polygon_graph.add_nodes_from(hole_vertices2)\n",
        "polygon_graph.add_nodes_from(hole_vertices3)"
      ],
      "metadata": {
        "id": "-PD-6I-f6JnS"
      },
      "execution_count": 126,
      "outputs": []
    },
    {
      "cell_type": "code",
      "source": [
        "# Define the edges of the polygon\n",
        "outer_polygon_edges = [(outer_polygon_vertices[i], outer_polygon_vertices[i + 1]) for i in range(len(outer_polygon_vertices) - 1)]\n",
        "outer_polygon_edges.append((outer_polygon_vertices[-1], outer_polygon_vertices[0]))"
      ],
      "metadata": {
        "id": "8709r4eF6R3C"
      },
      "execution_count": 127,
      "outputs": []
    },
    {
      "cell_type": "code",
      "source": [
        "# Define edges for all holes\n",
        "\n",
        "# Hole1\n",
        "hole_edges1 = [(hole_vertices1[i], hole_vertices1[i + 1]) for i in range(len(hole_vertices1) - 1)]\n",
        "hole_edges1.append((hole_vertices1[-1], hole_vertices1[0]))\n",
        "\n",
        "# Hole2\n",
        "hole_edges2 = [(hole_vertices2[i], hole_vertices2[i + 1]) for i in range(len(hole_vertices2) - 1)]\n",
        "hole_edges2.append((hole_vertices2[-1], hole_vertices2[0]))\n",
        "\n",
        "# Hole3\n",
        "hole_edges3 = [(hole_vertices3[i], hole_vertices3[i + 1]) for i in range(len(hole_vertices3) - 1)]\n",
        "hole_edges3.append((hole_vertices3[-1], hole_vertices3[0]))\n"
      ],
      "metadata": {
        "id": "73B4QGoR6W5S"
      },
      "execution_count": 128,
      "outputs": []
    },
    {
      "cell_type": "code",
      "source": [
        "# Add edges for the polygon and holes\n",
        "polygon_graph.add_edges_from(outer_polygon_edges)\n",
        "polygon_graph.add_edges_from(hole_edges1)\n",
        "polygon_graph.add_edges_from(hole_edges2)\n",
        "polygon_graph.add_edges_from(hole_edges3)"
      ],
      "metadata": {
        "id": "6PiaItlk6vmR"
      },
      "execution_count": 129,
      "outputs": []
    },
    {
      "cell_type": "code",
      "execution_count": 130,
      "metadata": {
        "id": "mKTnedwobF88"
      },
      "outputs": [],
      "source": [
        "# Determine dissection points and dissection rectangles manually\n",
        "dissection_rectangles = [\n",
        "    [(5, 4), (5, 18)],[(13,18),(13,6)],\n",
        "[(19,13), (19,4)],[(9,16), (23,16)], [(9,12), (23,12)],\n",
        "    [(15,6),(28,6)],[(2,10), (27,10)], [(25,12), (25,9)]\n",
        "]"
      ]
    },
    {
      "cell_type": "code",
      "source": [
        "# Create a new graph to represent the dissected rectangles\n",
        "rectangle_graph = nx.Graph()"
      ],
      "metadata": {
        "id": "Fczpy2kS75fT"
      },
      "execution_count": 131,
      "outputs": []
    },
    {
      "cell_type": "code",
      "source": [
        "# Add nodes for the vertices of the rectangles\n",
        "for rect_vertices in dissection_rectangles:\n",
        "    rectangle_graph.add_nodes_from(rect_vertices)"
      ],
      "metadata": {
        "id": "GZDFx-6Kstv2"
      },
      "execution_count": 132,
      "outputs": []
    },
    {
      "cell_type": "code",
      "source": [
        "# Define the edges for the rectangles\n",
        "rectangle_edges = [\n",
        "    (rect_vertices[i], rect_vertices[i + 1]) for rect_vertices in dissection_rectangles for i in range(len(rect_vertices) - 1)\n",
        "]"
      ],
      "metadata": {
        "id": "1lBf9Wte8HEJ"
      },
      "execution_count": 133,
      "outputs": []
    },
    {
      "cell_type": "code",
      "source": [
        "# Add edges for the rectangles\n",
        "rectangle_graph.add_edges_from(rectangle_edges)"
      ],
      "metadata": {
        "id": "mYenXw6i8SRJ"
      },
      "execution_count": 134,
      "outputs": []
    },
    {
      "cell_type": "code",
      "source": [
        "# Visualization\n",
        "pos = {vertex: vertex for vertex in outer_polygon_vertices + hole_vertices1 + hole_vertices2 + hole_vertices3 + [item for sublist in dissection_rectangles for item in sublist]}  # Position of nodes for plotting\n",
        "nx.draw(polygon_graph, pos=pos, with_labels=False, node_size=20, node_color='lightblue', font_size=8)\n",
        "nx.draw(rectangle_graph, pos=pos, node_size=5, node_color='lightgreen', edgelist=rectangle_edges, style= \"dotted\", edge_color=\"red\")\n",
        "\n",
        "# Set plot limits\n",
        "plt.xlim(-1, 35)\n",
        "plt.ylim(-1, 35)\n",
        "\n",
        "# Show the plot\n",
        "plt.gca().set_aspect('equal', adjustable='box')\n",
        "plt.show()"
      ],
      "metadata": {
        "colab": {
          "base_uri": "https://localhost:8080/",
          "height": 516
        },
        "id": "cbbWhyhM8Wxh",
        "outputId": "1edad84d-9a98-4b41-e200-a2af2c54eb34"
      },
      "execution_count": 135,
      "outputs": [
        {
          "output_type": "display_data",
          "data": {
            "text/plain": [
              "<Figure size 640x480 with 1 Axes>"
            ],
            "image/png": "[encoded data removed]"
          },
          "metadata": {}
        }
      ]
    }
  ]
}