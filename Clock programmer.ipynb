{
 "cells": [
  {
   "cell_type": "code",
   "execution_count": 6,
   "id": "3227dc4b-cc4c-4980-8396-b964f04533ec",
   "metadata": {},
   "outputs": [],
   "source": [
    "from tkinter import *\n",
    "from time import *\n",
    "\n",
    "def update():\n",
    "    time_string = strftime(\"%I:%M:%S %p\")\n",
    "    time_label.config(text=time_string)\n",
    "\n",
    "    day_string= strftime(\"%A\")\n",
    "    day_label.config(text=day_string)\n",
    "\n",
    "    date_string= strftime(\"%d %B, %Y\")\n",
    "    date_label.config(text=date_string)\n",
    "\n",
    "    window.after(1000, update)\n",
    "\n",
    "window= Tk()\n",
    "\n",
    "time_label = Label(window, font=(\"Calibri\", 100), fg=\"green\",bg=\"black\") #Change font and colours to your preferance\n",
    "time_label.pack()\n",
    "\n",
    "day_label = Label(window, font=(\"Calibri\", 25))\n",
    "day_label.pack()\n",
    "\n",
    "date_label = Label(window, font=(\"Calibri\", 25))\n",
    "date_label.pack()\n",
    "\n",
    "update()\n",
    "\n",
    "window.mainloop()"
   ]
  },
  {
   "cell_type": "code",
   "execution_count": null,
   "id": "e3d8693b-430d-4480-a48a-b5e2afe78045",
   "metadata": {},
   "outputs": [],
   "source": []
  },
  {
   "cell_type": "code",
   "execution_count": null,
   "id": "5b6a7185-fa5a-475a-87ef-b8dd59005d1f",
   "metadata": {},
   "outputs": [],
   "source": []
  }
 ],
 "metadata": {
  "kernelspec": {
   "display_name": "Python 3 (ipykernel)",
   "language": "python",
   "name": "python3"
  },
  "language_info": {
   "codemirror_mode": {
    "name": "ipython",
    "version": 3
   },
   "file_extension": ".py",
   "mimetype": "text/x-python",
   "name": "python",
   "nbconvert_exporter": "python",
   "pygments_lexer": "ipython3",
   "version": "3.11.5"
  }
 },
 "nbformat": 4,
 "nbformat_minor": 5
}
